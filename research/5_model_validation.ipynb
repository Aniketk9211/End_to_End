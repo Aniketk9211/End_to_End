{
 "cells": [
  {
   "cell_type": "code",
   "execution_count": null,
   "id": "1b8fe017",
   "metadata": {},
   "outputs": [],
   "source": [
    "print(\"Model  Validation \")"
   ]
  }
 ],
 "metadata": {
  "kernelspec": {
   "display_name": "Python 3",
   "language": "python",
   "name": "python3"
  },
  "language_info": {
   "name": "python",
   "version": "3.12.11"
  }
 },
 "nbformat": 4,
 "nbformat_minor": 5
}
